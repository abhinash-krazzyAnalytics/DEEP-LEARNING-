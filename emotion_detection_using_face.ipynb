{
  "nbformat": 4,
  "nbformat_minor": 0,
  "metadata": {
    "colab": {
      "name": "emotion detection using face.ipynb",
      "provenance": []
    },
    "kernelspec": {
      "name": "python3",
      "display_name": "Python 3"
    }
  },
  "cells": [
    {
      "cell_type": "code",
      "metadata": {
        "id": "wqIc8m-vKQcu"
      },
      "source": [
        "import numpy as np\r\n",
        "from keras import layers\r\n",
        "from keras.layers import Input, Dense, Activation, ZeroPadding2D, BatchNormalization, Flatten, Conv2D\r\n",
        "from keras.layers import AveragePooling2D, MaxPooling2D, Dropout, GlobalMaxPooling2D, GlobalAveragePooling2D\r\n",
        "from keras.models import Model\r\n",
        "from keras.preprocessing import image\r\n",
        "from keras.utils import layer_utils\r\n",
        "from keras.utils.data_utils import get_file\r\n",
        "from keras.applications.imagenet_utils import preprocess_input\r\n",
        "import pydot\r\n",
        "from IPython.display import SVG\r\n",
        "from keras.utils.vis_utils import model_to_dot\r\n",
        "from keras.utils import plot_model\r\n",
        "#from kt_utils import *\r\n",
        "\r\n",
        "import keras.backend as K\r\n",
        "K.set_image_data_format('channels_last')\r\n",
        "import matplotlib.pyplot as plt\r\n",
        "from matplotlib.pyplot import imshow\r\n",
        "\r\n",
        "%matplotlib inline"
      ],
      "execution_count": 13,
      "outputs": []
    },
    {
      "cell_type": "code",
      "metadata": {
        "id": "_fVgtBnOMQVi"
      },
      "source": [
        "import keras.backend as K\r\n",
        "import math\r\n",
        "import numpy as np\r\n",
        "import h5py\r\n",
        "import matplotlib.pyplot as plt\r\n",
        "\r\n",
        "\r\n",
        "def mean_pred(y_true, y_pred):\r\n",
        "    return K.mean(y_pred)\r\n",
        "\r\n",
        "def load_dataset():\r\n",
        "    train_dataset = h5py.File('/content/train_happy.h5', \"r\")\r\n",
        "    train_set_x_orig = np.array(train_dataset[\"train_set_x\"][:]) # your train set features\r\n",
        "    train_set_y_orig = np.array(train_dataset[\"train_set_y\"][:]) # your train set labels\r\n",
        "\r\n",
        "    test_dataset = h5py.File('/content/test_happy.h5', \"r\")\r\n",
        "    test_set_x_orig = np.array(test_dataset[\"test_set_x\"][:]) # your test set features\r\n",
        "    test_set_y_orig = np.array(test_dataset[\"test_set_y\"][:]) # your test set labels\r\n",
        "\r\n",
        "    classes = np.array(test_dataset[\"list_classes\"][:]) # the list of classes\r\n",
        "    \r\n",
        "    train_set_y_orig = train_set_y_orig.reshape((1, train_set_y_orig.shape[0]))\r\n",
        "    test_set_y_orig = test_set_y_orig.reshape((1, test_set_y_orig.shape[0]))\r\n",
        "    \r\n",
        "    return train_set_x_orig, train_set_y_orig, test_set_x_orig, test_set_y_orig, classes"
      ],
      "execution_count": 12,
      "outputs": []
    },
    {
      "cell_type": "code",
      "metadata": {
        "colab": {
          "base_uri": "https://localhost:8080/"
        },
        "id": "XBZTWKagKYrV",
        "outputId": "42552fe9-a49a-4514-812c-2d0e57f86162"
      },
      "source": [
        "X_train_orig, Y_train_orig, X_test_orig, Y_test_orig, classes = load_dataset()\r\n",
        "\r\n",
        "# Normalize image vectors\r\n",
        "X_train = X_train_orig/255.\r\n",
        "X_test = X_test_orig/255.\r\n",
        "\r\n",
        "# Reshape\r\n",
        "Y_train = Y_train_orig.T\r\n",
        "Y_test = Y_test_orig.T\r\n",
        "\r\n",
        "print (\"number of training examples = \" + str(X_train.shape[0]))\r\n",
        "print (\"number of test examples = \" + str(X_test.shape[0]))\r\n",
        "print (\"X_train shape: \" + str(X_train.shape))\r\n",
        "print (\"Y_train shape: \" + str(Y_train.shape))\r\n",
        "print (\"X_test shape: \" + str(X_test.shape))\r\n",
        "print (\"Y_test shape: \" + str(Y_test.shape))"
      ],
      "execution_count": 14,
      "outputs": [
        {
          "output_type": "stream",
          "text": [
            "number of training examples = 600\n",
            "number of test examples = 150\n",
            "X_train shape: (600, 64, 64, 3)\n",
            "Y_train shape: (600, 1)\n",
            "X_test shape: (150, 64, 64, 3)\n",
            "Y_test shape: (150, 1)\n"
          ],
          "name": "stdout"
        }
      ]
    },
    {
      "cell_type": "code",
      "metadata": {
        "id": "qvJH8exdKmS7"
      },
      "source": [
        "def model(input_shape):\r\n",
        "    # Define the input placeholder as a tensor with shape input_shape. Think of this as your input image!\r\n",
        "    X_input = Input(input_shape)\r\n",
        "\r\n",
        "    # Zero-Padding: pads the border of X_input with zeroes\r\n",
        "    X = ZeroPadding2D((3, 3))(X_input)\r\n",
        "\r\n",
        "    # CONV -> BN -> RELU Block applied to X\r\n",
        "    X = Conv2D(32, (7, 7), strides = (1, 1), name = 'conv0')(X)\r\n",
        "    X = BatchNormalization(axis = 3, name = 'bn0')(X)\r\n",
        "    X = Activation('relu')(X)\r\n",
        "\r\n",
        "    # MAXPOOL\r\n",
        "    X = MaxPooling2D((2, 2), name='max_pool')(X)\r\n",
        "\r\n",
        "    # FLATTEN X (means convert it to a vector) + FULLYCONNECTED\r\n",
        "    X = Flatten()(X)\r\n",
        "    X = Dense(1, activation='sigmoid', name='fc')(X)\r\n",
        "\r\n",
        "    # Create model. This creates your Keras model instance, you'll use this instance to train/test the model.\r\n",
        "    model = Model(inputs = X_input, outputs = X, name='HappyModel')\r\n",
        "\r\n",
        "    return model"
      ],
      "execution_count": 15,
      "outputs": []
    },
    {
      "cell_type": "code",
      "metadata": {
        "id": "fOqKHZHnN_uh"
      },
      "source": [
        "# GRADED FUNCTION: HappyModel\r\n",
        "\r\n",
        "def HappyModel(input_shape):\r\n",
        "    \"\"\"\r\n",
        "    Implementation of the HappyModel.\r\n",
        "    \r\n",
        "    Arguments:\r\n",
        "    input_shape -- shape of the images of the dataset\r\n",
        "\r\n",
        "    Returns:\r\n",
        "    model -- a Model() instance in Keras\r\n",
        "    \"\"\"\r\n",
        "    \r\n",
        "    ### START CODE HERE ###\r\n",
        "    # Feel free to use the suggested outline in the text above to get started, and run through the whole\r\n",
        "    # exercise (including the later portions of this notebook) once. The come back also try out other\r\n",
        "    # network architectures as well. \r\n",
        "        # Define the input placeholder as a tensor with shape input_shape. Think of this as your input image!\r\n",
        "    X_input = Input(input_shape)\r\n",
        "\r\n",
        "    # Zero-Padding: pads the border of X_input with zeroes\r\n",
        "    X = ZeroPadding2D((3, 3))(X_input)\r\n",
        "\r\n",
        "    # CONV -> BN -> RELU Block applied to X\r\n",
        "    X = Conv2D(32, (7, 7), strides=(1, 1), name='conv0')(X)\r\n",
        "    X = BatchNormalization(axis=3, name='bn0')(X)\r\n",
        "    X = Activation('relu')(X)\r\n",
        "\r\n",
        "    # MAXPOOL\r\n",
        "    X = MaxPooling2D((2, 2), name='max_pool')(X)\r\n",
        "\r\n",
        "    # FLATTEN X (means convert it to a vector) + FULLYCONNECTED\r\n",
        "    X = Flatten()(X)\r\n",
        "    X = Dense(1, activation='sigmoid', name='fc')(X)\r\n",
        "\r\n",
        "    # Create model. This creates your Keras model instance, you'll use this instance to train/test the model.\r\n",
        "    model = Model(inputs=X_input, outputs=X, name='HappyModel')\r\n",
        "\r\n",
        "    return model\r\n",
        "    ### END CODE HERE ###\r\n",
        "    \r\n",
        "    return model"
      ],
      "execution_count": 16,
      "outputs": []
    },
    {
      "cell_type": "code",
      "metadata": {
        "id": "bo5ocefxN_xa"
      },
      "source": [
        "### START CODE HERE ### (1 line)\r\n",
        "happyModel = HappyModel(X_train.shape[1:])\r\n",
        "### END CODE HERE ###"
      ],
      "execution_count": 17,
      "outputs": []
    },
    {
      "cell_type": "code",
      "metadata": {
        "id": "3bgYM_OvN_0u"
      },
      "source": [
        "happyModel.compile('adam', 'binary_crossentropy', metrics=['accuracy'])"
      ],
      "execution_count": 18,
      "outputs": []
    },
    {
      "cell_type": "code",
      "metadata": {
        "colab": {
          "base_uri": "https://localhost:8080/"
        },
        "id": "dT3YuSquOUiU",
        "outputId": "95e0bdb2-7400-4e6b-d6cc-6351412700c9"
      },
      "source": [
        "happyModel.fit(X_train, Y_train, epochs=40, batch_size=50)"
      ],
      "execution_count": 19,
      "outputs": [
        {
          "output_type": "stream",
          "text": [
            "Epoch 1/40\n",
            "12/12 [==============================] - 5s 309ms/step - loss: 3.3528 - accuracy: 0.5455\n",
            "Epoch 2/40\n",
            "12/12 [==============================] - 4s 300ms/step - loss: 0.6536 - accuracy: 0.7737\n",
            "Epoch 3/40\n",
            "12/12 [==============================] - 4s 302ms/step - loss: 0.3967 - accuracy: 0.8289\n",
            "Epoch 4/40\n",
            "12/12 [==============================] - 4s 298ms/step - loss: 0.1889 - accuracy: 0.9298\n",
            "Epoch 5/40\n",
            "12/12 [==============================] - 4s 302ms/step - loss: 0.1961 - accuracy: 0.9109\n",
            "Epoch 6/40\n",
            "12/12 [==============================] - 4s 297ms/step - loss: 0.1088 - accuracy: 0.9735\n",
            "Epoch 7/40\n",
            "12/12 [==============================] - 4s 295ms/step - loss: 0.0859 - accuracy: 0.9820\n",
            "Epoch 8/40\n",
            "12/12 [==============================] - 4s 298ms/step - loss: 0.1088 - accuracy: 0.9657\n",
            "Epoch 9/40\n",
            "12/12 [==============================] - 4s 297ms/step - loss: 0.0760 - accuracy: 0.9801\n",
            "Epoch 10/40\n",
            "12/12 [==============================] - 4s 298ms/step - loss: 0.0750 - accuracy: 0.9809\n",
            "Epoch 11/40\n",
            "12/12 [==============================] - 4s 298ms/step - loss: 0.0660 - accuracy: 0.9754\n",
            "Epoch 12/40\n",
            "12/12 [==============================] - 4s 300ms/step - loss: 0.0677 - accuracy: 0.9794\n",
            "Epoch 13/40\n",
            "12/12 [==============================] - 4s 300ms/step - loss: 0.0834 - accuracy: 0.9757\n",
            "Epoch 14/40\n",
            "12/12 [==============================] - 4s 300ms/step - loss: 0.0493 - accuracy: 0.9877\n",
            "Epoch 15/40\n",
            "12/12 [==============================] - 4s 299ms/step - loss: 0.0487 - accuracy: 0.9817\n",
            "Epoch 16/40\n",
            "12/12 [==============================] - 4s 299ms/step - loss: 0.0381 - accuracy: 0.9919\n",
            "Epoch 17/40\n",
            "12/12 [==============================] - 4s 303ms/step - loss: 0.0366 - accuracy: 0.9899\n",
            "Epoch 18/40\n",
            "12/12 [==============================] - 4s 299ms/step - loss: 0.0355 - accuracy: 0.9904\n",
            "Epoch 19/40\n",
            "12/12 [==============================] - 4s 299ms/step - loss: 0.0260 - accuracy: 0.9949\n",
            "Epoch 20/40\n",
            "12/12 [==============================] - 4s 302ms/step - loss: 0.0652 - accuracy: 0.9741\n",
            "Epoch 21/40\n",
            "12/12 [==============================] - 4s 301ms/step - loss: 0.0317 - accuracy: 0.9921\n",
            "Epoch 22/40\n",
            "12/12 [==============================] - 4s 300ms/step - loss: 0.0283 - accuracy: 0.9954\n",
            "Epoch 23/40\n",
            "12/12 [==============================] - 4s 299ms/step - loss: 0.0448 - accuracy: 0.9865\n",
            "Epoch 24/40\n",
            "12/12 [==============================] - 4s 298ms/step - loss: 0.0463 - accuracy: 0.9861\n",
            "Epoch 25/40\n",
            "12/12 [==============================] - 4s 302ms/step - loss: 0.0288 - accuracy: 0.9942\n",
            "Epoch 26/40\n",
            "12/12 [==============================] - 4s 296ms/step - loss: 0.0227 - accuracy: 0.9916\n",
            "Epoch 27/40\n",
            "12/12 [==============================] - 4s 298ms/step - loss: 0.0203 - accuracy: 0.9919\n",
            "Epoch 28/40\n",
            "12/12 [==============================] - 4s 300ms/step - loss: 0.0279 - accuracy: 0.9902\n",
            "Epoch 29/40\n",
            "12/12 [==============================] - 4s 299ms/step - loss: 0.0220 - accuracy: 0.9949\n",
            "Epoch 30/40\n",
            "12/12 [==============================] - 4s 300ms/step - loss: 0.0212 - accuracy: 0.9916\n",
            "Epoch 31/40\n",
            "12/12 [==============================] - 4s 298ms/step - loss: 0.0174 - accuracy: 0.9958\n",
            "Epoch 32/40\n",
            "12/12 [==============================] - 4s 298ms/step - loss: 0.0173 - accuracy: 0.9947\n",
            "Epoch 33/40\n",
            "12/12 [==============================] - 4s 299ms/step - loss: 0.0128 - accuracy: 0.9983\n",
            "Epoch 34/40\n",
            "12/12 [==============================] - 4s 300ms/step - loss: 0.0097 - accuracy: 0.9994\n",
            "Epoch 35/40\n",
            "12/12 [==============================] - 4s 299ms/step - loss: 0.0120 - accuracy: 1.0000\n",
            "Epoch 36/40\n",
            "12/12 [==============================] - 4s 299ms/step - loss: 0.0125 - accuracy: 0.9974\n",
            "Epoch 37/40\n",
            "12/12 [==============================] - 4s 302ms/step - loss: 0.0164 - accuracy: 0.9924\n",
            "Epoch 38/40\n",
            "12/12 [==============================] - 4s 302ms/step - loss: 0.0121 - accuracy: 0.9966\n",
            "Epoch 39/40\n",
            "12/12 [==============================] - 4s 300ms/step - loss: 0.0203 - accuracy: 0.9951\n",
            "Epoch 40/40\n",
            "12/12 [==============================] - 4s 297ms/step - loss: 0.0092 - accuracy: 0.9982\n"
          ],
          "name": "stdout"
        },
        {
          "output_type": "execute_result",
          "data": {
            "text/plain": [
              "<tensorflow.python.keras.callbacks.History at 0x7f40625ba828>"
            ]
          },
          "metadata": {
            "tags": []
          },
          "execution_count": 19
        }
      ]
    },
    {
      "cell_type": "code",
      "metadata": {
        "colab": {
          "base_uri": "https://localhost:8080/"
        },
        "id": "A-EZbqZrOWvb",
        "outputId": "8cd0b869-629b-465d-945c-92bc38c9cf32"
      },
      "source": [
        "### START CODE HERE ### (1 line)\r\n",
        "preds = happyModel.evaluate(X_test, Y_test, batch_size=32, verbose=1, sample_weight=None)\r\n",
        "### END CODE HERE ###\r\n",
        "print()\r\n",
        "print (\"Loss = \" + str(preds[0]))\r\n",
        "print (\"Test Accuracy = \" + str(preds[1]))"
      ],
      "execution_count": 20,
      "outputs": [
        {
          "output_type": "stream",
          "text": [
            "5/5 [==============================] - 0s 53ms/step - loss: 0.1045 - accuracy: 0.9667\n",
            "\n",
            "Loss = 0.10452902317047119\n",
            "Test Accuracy = 0.9666666388511658\n"
          ],
          "name": "stdout"
        }
      ]
    },
    {
      "cell_type": "code",
      "metadata": {
        "colab": {
          "base_uri": "https://localhost:8080/",
          "height": 286
        },
        "id": "lP464mlMPC4A",
        "outputId": "0227ccc2-cbfb-45da-d634-f6aeb1e816c5"
      },
      "source": [
        "### START CODE HERE ###\r\n",
        "img_path = '/content/index.jpg'\r\n",
        "### END CODE HERE ###\r\n",
        "img = image.load_img(img_path, target_size=(64, 64))\r\n",
        "imshow(img)\r\n"
      ],
      "execution_count": 21,
      "outputs": [
        {
          "output_type": "execute_result",
          "data": {
            "text/plain": [
              "<matplotlib.image.AxesImage at 0x7f405bf72be0>"
            ]
          },
          "metadata": {
            "tags": []
          },
          "execution_count": 21
        },
        {
          "output_type": "display_data",
          "data": {
            "image/png": "[encoded data removed]",
            "text/plain": [
              "<Figure size 432x288 with 1 Axes>"
            ]
          },
          "metadata": {
            "tags": [],
            "needs_background": "light"
          }
        }
      ]
    },
    {
      "cell_type": "code",
      "metadata": {
        "colab": {
          "base_uri": "https://localhost:8080/"
        },
        "id": "cgZ3twLUQ58e",
        "outputId": "14d71054-40d5-4dcd-8491-3c62673e4418"
      },
      "source": [
        "x = image.img_to_array(img)\r\n",
        "x = np.expand_dims(x, axis=0)\r\n",
        "x = preprocess_input(x)\r\n",
        "\r\n",
        "print(happyModel.predict(x))"
      ],
      "execution_count": 22,
      "outputs": [
        {
          "output_type": "stream",
          "text": [
            "[[1.]]\n"
          ],
          "name": "stdout"
        }
      ]
    },
    {
      "cell_type": "code",
      "metadata": {
        "colab": {
          "base_uri": "https://localhost:8080/",
          "height": 286
        },
        "id": "ua7fF-oTQ85t",
        "outputId": "08a4647b-6a4f-4d78-ab1e-775027efdcf7"
      },
      "source": [
        "### START CODE HERE ###\r\n",
        "img_path = '/content/index.jpg'\r\n",
        "### END CODE HERE ###\r\n",
        "img = image.load_img(img_path, target_size=(64, 64))\r\n",
        "imshow(img)\r\n",
        "x = image.img_to_array(img)\r\n",
        "x = np.expand_dims(x, axis=0)\r\n",
        "x = preprocess_input(x)\r\n",
        "\r\n",
        "pr=happyModel.predict(x)\r\n",
        "pr=int(pr[0][0])\r\n",
        "ref={1:\"Happy\",0:\"sad\"}\r\n",
        "print(\"Prediction is:\",ref[pr])\r\n"
      ],
      "execution_count": 26,
      "outputs": [
        {
          "output_type": "stream",
          "text": [
            "Prediction is: Happy\n"
          ],
          "name": "stdout"
        },
        {
          "output_type": "display_data",
          "data": {
            "image/png": "[encoded data removed]",
            "text/plain": [
              "<Figure size 432x288 with 1 Axes>"
            ]
          },
          "metadata": {
            "tags": [],
            "needs_background": "light"
          }
        }
      ]
    },
    {
      "cell_type": "code",
      "metadata": {
        "id": "bdHTUAJmRk5n"
      },
      "source": [
        ""
      ],
      "execution_count": 24,
      "outputs": []
    },
    {
      "cell_type": "code",
      "metadata": {
        "id": "ph-VDZXVR37T"
      },
      "source": [
        ""
      ],
      "execution_count": null,
      "outputs": []
    }
  ]
}