{
  "nbformat": 4,
  "nbformat_minor": 0,
  "metadata": {
    "colab": {
      "name": "deeplearning phase1.ipynb",
      "provenance": [],
      "private_outputs": true,
      "collapsed_sections": []
    },
    "kernelspec": {
      "name": "python3",
      "display_name": "Python 3"
    }
  },
  "cells": [
    {
      "cell_type": "code",
      "metadata": {
        "id": "eWSsfZUm_UqV"
      },
      "source": [
        "from keras import datasets "
      ],
      "execution_count": null,
      "outputs": []
    },
    {
      "cell_type": "code",
      "metadata": {
        "id": "wQguUcu7_eQ4"
      },
      "source": [
        "print(dir(datasets))"
      ],
      "execution_count": null,
      "outputs": []
    },
    {
      "cell_type": "code",
      "metadata": {
        "id": "OnG5FzsuBprZ"
      },
      "source": [
        "from keras.datasets import boston_housing \n",
        "(x_train, y_train), (x_test, y_test) = boston_housing.load_data() \n"
      ],
      "execution_count": null,
      "outputs": []
    },
    {
      "cell_type": "code",
      "metadata": {
        "id": "G467C7SPJ9P4"
      },
      "source": [
        "x_train.shape"
      ],
      "execution_count": null,
      "outputs": []
    },
    {
      "cell_type": "code",
      "metadata": {
        "id": "fRHef8pUBpjd"
      },
      "source": [
        "print(dir(boston_housing.load_data()))"
      ],
      "execution_count": null,
      "outputs": []
    },
    {
      "cell_type": "code",
      "metadata": {
        "id": "rTzq1mMo_091"
      },
      "source": [
        "import keras\n",
        "from keras.layers import Dense\n",
        "from keras.models import Sequential"
      ],
      "execution_count": null,
      "outputs": []
    },
    {
      "cell_type": "code",
      "metadata": {
        "id": "EsGpdrzUJLNQ"
      },
      "source": [
        "model=Sequential()\n",
        "model.add(Dense(units=20,activation='relu',input_dim=13))"
      ],
      "execution_count": null,
      "outputs": []
    },
    {
      "cell_type": "code",
      "metadata": {
        "id": "nrx2htIyKKEW"
      },
      "source": [
        "model.add(Dense(units=12,activation='relu'))\n",
        "model.add(Dense(units=6,activation='relu'))"
      ],
      "execution_count": null,
      "outputs": []
    },
    {
      "cell_type": "code",
      "metadata": {
        "id": "0YWdqXfbJLyd"
      },
      "source": [
        "model.add(Dense(units=3,activation='relu'))"
      ],
      "execution_count": null,
      "outputs": []
    },
    {
      "cell_type": "code",
      "metadata": {
        "id": "fUh8g2aDLv1x"
      },
      "source": [
        "model.add(Dense(units=1,activation='linear'))"
      ],
      "execution_count": null,
      "outputs": []
    },
    {
      "cell_type": "code",
      "metadata": {
        "id": "yAVifadxL2XH"
      },
      "source": [
        "model.compile(optimizer='Adam',metrics=[\"accuracy\"],loss='mean_squared_error')"
      ],
      "execution_count": null,
      "outputs": []
    },
    {
      "cell_type": "code",
      "metadata": {
        "id": "xVM5KHBDJL1V"
      },
      "source": [
        "model.fit(x_train,y_train,batch_size=10,epochs=250)\n"
      ],
      "execution_count": null,
      "outputs": []
    },
    {
      "cell_type": "code",
      "metadata": {
        "id": "rFOLAiWgMUAE"
      },
      "source": [
        "pred=model.predict(x_test)"
      ],
      "execution_count": null,
      "outputs": []
    },
    {
      "cell_type": "code",
      "metadata": {
        "id": "b_ZMN-PgNhAu"
      },
      "source": [
        "from sklearn.metrics import r2_score,mean_squared_error\n",
        "print(r2_score(y_test,pred))\n",
        "print(mean_squared_error(y_test,pred))"
      ],
      "execution_count": null,
      "outputs": []
    },
    {
      "cell_type": "code",
      "metadata": {
        "id": "yIWlmhegQU6z"
      },
      "source": [
        "from sklearn.datasets import load_iris\n",
        "dd=load_iris()\n"
      ],
      "execution_count": null,
      "outputs": []
    },
    {
      "cell_type": "code",
      "metadata": {
        "id": "dl0DtehARiuQ"
      },
      "source": [
        "x=dd.data\n",
        "y=dd.target"
      ],
      "execution_count": null,
      "outputs": []
    },
    {
      "cell_type": "code",
      "metadata": {
        "id": "AH9VeRUFUlAB"
      },
      "source": [
        "import pandas as pd\n",
        "from sklearn.preprocessing import LabelEncoder\n",
        "le=LabelEncoder()\n",
        "y=le.fit_transform(y)\n",
        "y=pd.get_dummies(y).values\n",
        "y"
      ],
      "execution_count": null,
      "outputs": []
    },
    {
      "cell_type": "code",
      "metadata": {
        "id": "rsLFFy0WRoYM"
      },
      "source": [
        "from sklearn.model_selection import train_test_split\n",
        "x_train,x_test,y_train,y_test=train_test_split(x,y,test_size=.30,random_state=42)"
      ],
      "execution_count": null,
      "outputs": []
    },
    {
      "cell_type": "code",
      "metadata": {
        "id": "Gd81cKbURobY"
      },
      "source": [
        "model=Sequential()\n",
        "model.add(Dense(units=8,input_shape=(4,),activation='relu'))\n",
        "model.add(Dense(units=4,activation='relu'))\n",
        "model.add(Dense(units=3,activation='softmax'))"
      ],
      "execution_count": null,
      "outputs": []
    },
    {
      "cell_type": "code",
      "metadata": {
        "id": "5apvZezhT6Qk"
      },
      "source": [
        "model.compile(optimizer='Adam',metrics=[\"accuracy\"],loss='categorical_crossentropy')"
      ],
      "execution_count": null,
      "outputs": []
    },
    {
      "cell_type": "code",
      "metadata": {
        "id": "G2cC4VBUT6RA"
      },
      "source": [
        "model.fit(x_train,y_train,batch_size=10,epochs=100,)\n",
        "\n"
      ],
      "execution_count": null,
      "outputs": []
    },
    {
      "cell_type": "code",
      "metadata": {
        "id": "4vCygoY3Risi"
      },
      "source": [
        "pred=model.predict(x_test)"
      ],
      "execution_count": null,
      "outputs": []
    },
    {
      "cell_type": "code",
      "metadata": {
        "id": "rbNE2coEW1hH"
      },
      "source": [
        "import numpy as np\n",
        "y_test=np.argmax(y_test,axis=1)\n",
        "y_pred=np.argmax(pred,axis=1)"
      ],
      "execution_count": null,
      "outputs": []
    },
    {
      "cell_type": "code",
      "metadata": {
        "id": "xqwvvFQtXHoR"
      },
      "source": [
        "from sklearn.metrics import accuracy_score\n",
        "print(accuracy_score(y_test,y_pred))"
      ],
      "execution_count": null,
      "outputs": []
    },
    {
      "cell_type": "code",
      "metadata": {
        "id": "Xo2bcE5NQU9_"
      },
      "source": [
        ""
      ],
      "execution_count": null,
      "outputs": []
    },
    {
      "cell_type": "code",
      "metadata": {
        "id": "MFhEIOjaOVVF"
      },
      "source": [
        "from sklearn.datasets import load_breast_cancer\n",
        "data=load_breast_cancer()\n"
      ],
      "execution_count": null,
      "outputs": []
    },
    {
      "cell_type": "code",
      "metadata": {
        "id": "kbltp6_mYrRc"
      },
      "source": [
        "x=data.data\n",
        "y=data.target"
      ],
      "execution_count": null,
      "outputs": []
    },
    {
      "cell_type": "code",
      "metadata": {
        "id": "0-VcdGquZ-1y"
      },
      "source": [
        "from sklearn.model_selection import train_test_split\n",
        "x_train,x_test,y_train,y_test=train_test_split(x,y,test_size=.30,random_state=42)"
      ],
      "execution_count": null,
      "outputs": []
    },
    {
      "cell_type": "code",
      "metadata": {
        "id": "dpmapPiGaCNW"
      },
      "source": [
        "x_train.shape"
      ],
      "execution_count": null,
      "outputs": []
    },
    {
      "cell_type": "code",
      "metadata": {
        "id": "DJLTFOStZ-2M"
      },
      "source": [
        "model=Sequential()\n",
        "model.add(Dense(units=40,input_dim=30,activation='relu'))\n",
        "model.add(Dense(units=20,activation='relu'))\n",
        "model.add(Dense(units=10,activation='relu'))\n",
        "model.add(Dense(units=5,activation='relu'))\n",
        "model.add(Dense(units=1,activation='sigmoid'))"
      ],
      "execution_count": null,
      "outputs": []
    },
    {
      "cell_type": "code",
      "metadata": {
        "id": "Vb_PLnswZ-2r"
      },
      "source": [
        "model.compile(optimizer='Adam',metrics=[\"accuracy\"],loss='binary_crossentropy')"
      ],
      "execution_count": null,
      "outputs": []
    },
    {
      "cell_type": "code",
      "metadata": {
        "id": "W5O3RHHjZ-3E"
      },
      "source": [
        "model.fit(x_train,y_train,batch_size=10,epochs=100)\n",
        "\n"
      ],
      "execution_count": null,
      "outputs": []
    },
    {
      "cell_type": "code",
      "metadata": {
        "id": "sZ_zeuW6b7_h"
      },
      "source": [
        "pred=model.predict(x_test).flatten()"
      ],
      "execution_count": null,
      "outputs": []
    },
    {
      "cell_type": "code",
      "metadata": {
        "id": "1U2IiaTIcL4_"
      },
      "source": [
        "pred=np.where(pred>0.5,1,0)\n",
        "pred"
      ],
      "execution_count": null,
      "outputs": []
    },
    {
      "cell_type": "code",
      "metadata": {
        "id": "UcNoa0AJb8AR"
      },
      "source": [
        "from sklearn.metrics import accuracy_score\n",
        "print(accuracy_score(y_test,pred))"
      ],
      "execution_count": null,
      "outputs": []
    },
    {
      "cell_type": "code",
      "metadata": {
        "id": "bi-JEI4fYulh"
      },
      "source": [
        ""
      ],
      "execution_count": null,
      "outputs": []
    },
    {
      "cell_type": "code",
      "metadata": {
        "id": "zzazeoOsOVZG"
      },
      "source": [
        ""
      ],
      "execution_count": null,
      "outputs": []
    },
    {
      "cell_type": "code",
      "metadata": {
        "id": "2OXhE5kTNtxd"
      },
      "source": [
        ""
      ],
      "execution_count": null,
      "outputs": []
    }
  ]
}